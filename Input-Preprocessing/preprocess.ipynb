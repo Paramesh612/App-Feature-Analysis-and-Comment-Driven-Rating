{
 "cells": [
  {
   "cell_type": "code",
   "execution_count": 5,
   "metadata": {},
   "outputs": [
    {
     "name": "stderr",
     "output_type": "stream",
     "text": [
      "[nltk_data] Downloading package stopwords to\n",
      "[nltk_data]     C:\\Users\\2022503509\\AppData\\Roaming\\nltk_data...\n",
      "[nltk_data]   Package stopwords is already up-to-date!\n",
      "[nltk_data] Downloading package wordnet to\n",
      "[nltk_data]     C:\\Users\\2022503509\\AppData\\Roaming\\nltk_data...\n",
      "[nltk_data]   Package wordnet is already up-to-date!\n"
     ]
    }
   ],
   "source": [
    "import pandas as pd\n",
    "import re\n",
    "import nltk\n",
    "from nltk.corpus import stopwords\n",
    "from nltk.stem import WordNetLemmatizer\n",
    "\n",
    "# Download necessary NLTK resources\n",
    "nltk.download('stopwords')\n",
    "nltk.download('wordnet')\n",
    "\n",
    "# Initialize the lemmatizer\n",
    "lemmatizer = WordNetLemmatizer()"
   ]
  },
  {
   "cell_type": "code",
   "execution_count": 6,
   "metadata": {},
   "outputs": [],
   "source": [
    "filename = \"Instagram_reviews\"\n",
    "# Load the data from a CSV\n",
    "data = pd.read_csv(\"../\"+filename+\".csv\")\n",
    "# Drop rows where 'Text' or 'Score' is missing\n",
    "data = data.dropna(subset=['Text', 'Score'])\n",
    "\n",
    "# Drop the 'Date' column as it isn't necessary for sentiment analysis\n",
    "data = data.drop(columns=['Date'])\n"
   ]
  },
  {
   "cell_type": "code",
   "execution_count": 7,
   "metadata": {},
   "outputs": [],
   "source": [
    "# Remove special characters, emojis, and make text lowercase\n",
    "def clean_text(text):\n",
    "    text = re.sub(r'[^A-Za-z\\s]', '', text)  # Remove anything that's not a letter or space\n",
    "    text = text.lower()  # Convert to lowercase\n",
    "    return text\n",
    "\n",
    "# Apply the cleaning function to the 'Text' column\n",
    "data['Cleaned_Text'] = data['Text'].apply(clean_text)\n",
    "\n",
    "# Tokenization and Lemmatization\n",
    "def tokenize_and_lemmatize(text):\n",
    "    words = text.split()  # Tokenize by splitting by spaces\n",
    "    words = [lemmatizer.lemmatize(word) for word in words if word not in stopwords.words('english')]  # Lemmatize and remove stopwords\n",
    "    return ' '.join(words)\n",
    "\n",
    "# Apply tokenization and lemmatization\n",
    "data['Processed_Text'] = data['Cleaned_Text'].apply(tokenize_and_lemmatize)"
   ]
  },
  {
   "cell_type": "code",
   "execution_count": 14,
   "metadata": {},
   "outputs": [
    {
     "name": "stdout",
     "output_type": "stream",
     "text": [
      "      Appname  Score                                   Processed_Text\n",
      "0   Instagram      5                               best app instagram\n",
      "1   Instagram      2                 suspended new acc without reason\n",
      "2   Instagram      5                             asha sings asha devi\n",
      "3   Instagram      5                                                 \n",
      "4   Instagram      5                     earea instagram contrifriesh\n",
      "..        ...    ...                                              ...\n",
      "95  Instagram      5                                      amazing app\n",
      "96  Instagram      5  perfect perfect everything last minute teaching\n",
      "97  Instagram      5                                             good\n",
      "98  Instagram      5                                                 \n",
      "99  Instagram      5                                             good\n",
      "\n",
      "[100 rows x 3 columns]\n"
     ]
    }
   ],
   "source": [
    "reqd = ['Appname' , 'Score', 'Processed_Text']\n",
    "newdata = data[reqd] \n",
    "newdata.to_csv(\"Preprocessed_Data/\"+filename+\"_Processed.csv\")"
   ]
  },
  {
   "cell_type": "code",
   "execution_count": null,
   "metadata": {},
   "outputs": [],
   "source": []
  }
 ],
 "metadata": {
  "kernelspec": {
   "display_name": "Python 3",
   "language": "python",
   "name": "python3"
  },
  "language_info": {
   "codemirror_mode": {
    "name": "ipython",
    "version": 3
   },
   "file_extension": ".py",
   "mimetype": "text/x-python",
   "name": "python",
   "nbconvert_exporter": "python",
   "pygments_lexer": "ipython3",
   "version": "3.11.5"
  }
 },
 "nbformat": 4,
 "nbformat_minor": 2
}
